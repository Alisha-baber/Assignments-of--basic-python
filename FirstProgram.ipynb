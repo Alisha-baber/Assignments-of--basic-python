{
  "nbformat": 4,
  "nbformat_minor": 0,
  "metadata": {
    "colab": {
      "provenance": [],
      "authorship_tag": "ABX9TyPfThoN1QPZHm1fJ/2/F91r",
      "include_colab_link": true
    },
    "kernelspec": {
      "name": "python3",
      "display_name": "Python 3"
    },
    "language_info": {
      "name": "python"
    }
  },
  "cells": [
    {
      "cell_type": "markdown",
      "metadata": {
        "id": "view-in-github",
        "colab_type": "text"
      },
      "source": [
        "<a href=\"https://colab.research.google.com/github/Alisha-baber/Assignments-of--basic-python/blob/main/FirstProgram.ipynb\" target=\"_parent\"><img src=\"https://colab.research.google.com/assets/colab-badge.svg\" alt=\"Open In Colab\"/></a>"
      ]
    },
    {
      "cell_type": "code",
      "execution_count": 2,
      "metadata": {
        "colab": {
          "base_uri": "https://localhost:8080/"
        },
        "id": "upT5VL-CGUGL",
        "outputId": "dbf22b15-90f6-42f5-dd5b-2ba2e1ec3bbe"
      },
      "outputs": [
        {
          "output_type": "stream",
          "name": "stdout",
          "text": [
            " hello python\n"
          ]
        }
      ],
      "source": [
        "print(\" hello python\")\n"
      ]
    },
    {
      "cell_type": "code",
      "source": [
        "print(\"Alisha\")"
      ],
      "metadata": {
        "colab": {
          "base_uri": "https://localhost:8080/"
        },
        "id": "Gw_Nrew-Gxv7",
        "outputId": "92708b2b-94ed-47c3-da24-d2b1ed7f60b2"
      },
      "execution_count": 3,
      "outputs": [
        {
          "output_type": "stream",
          "name": "stdout",
          "text": [
            "Alisha\n"
          ]
        }
      ]
    },
    {
      "cell_type": "code",
      "source": [
        "print(\" my name is  Alsh\")\n"
      ],
      "metadata": {
        "colab": {
          "base_uri": "https://localhost:8080/"
        },
        "id": "7ygzbUC2K3-t",
        "outputId": "79ebb1b1-8194-4dfb-c50b-4b2a75c0c54f"
      },
      "execution_count": 4,
      "outputs": [
        {
          "output_type": "stream",
          "name": "stdout",
          "text": [
            " my name is  Alsh\n"
          ]
        }
      ]
    },
    {
      "cell_type": "code",
      "source": [
        "print (\"favourite food is ?\")"
      ],
      "metadata": {
        "colab": {
          "base_uri": "https://localhost:8080/"
        },
        "id": "DUkfOqRdLeJc",
        "outputId": "87edca84-6938-425a-a1e7-3b0a46e3ee04"
      },
      "execution_count": 5,
      "outputs": [
        {
          "output_type": "stream",
          "name": "stdout",
          "text": [
            "favourite food is ?\n"
          ]
        }
      ]
    },
    {
      "cell_type": "code",
      "source": [
        "print(\"my favourite food is pizza\")"
      ],
      "metadata": {
        "colab": {
          "base_uri": "https://localhost:8080/"
        },
        "id": "39XTw69TMWMS",
        "outputId": "abab6e0a-7a67-4226-ab93-7a098a0f50d2"
      },
      "execution_count": 6,
      "outputs": [
        {
          "output_type": "stream",
          "name": "stdout",
          "text": [
            "my favourite food is pizza\n"
          ]
        }
      ]
    }
  ]
}