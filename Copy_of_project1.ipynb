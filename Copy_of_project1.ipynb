{
  "nbformat": 4,
  "nbformat_minor": 0,
  "metadata": {
    "colab": {
      "provenance": [],
      "authorship_tag": "ABX9TyM41KuOfsIaXCNxUrCRTw4L",
      "include_colab_link": true
    },
    "kernelspec": {
      "name": "python3",
      "display_name": "Python 3"
    },
    "language_info": {
      "name": "python"
    }
  },
  "cells": [
    {
      "cell_type": "markdown",
      "metadata": {
        "id": "view-in-github",
        "colab_type": "text"
      },
      "source": [
        "<a href=\"https://colab.research.google.com/github/Alisha-baber/Assignments-of--basic-python/blob/main/Copy_of_project1.ipynb\" target=\"_parent\"><img src=\"https://colab.research.google.com/assets/colab-badge.svg\" alt=\"Open In Colab\"/></a>"
      ]
    },
    {
      "cell_type": "markdown",
      "source": [
        "## phython basics\n",
        "**calculator**\n"
      ],
      "metadata": {
        "id": "gwjOT-beOwUQ"
      }
    },
    {
      "cell_type": "code",
      "source": [
        "# calculator in phython\n",
        "# display the calculator menu\n",
        "\n",
        "print (\" welcome to phython calculator!\")\n",
        "print (\" select any operation\")\n",
        "opertion= input(\"Enter the operation number (1/2/3/4/5): \")\n",
        "\n",
        "\n",
        "# get numbers for assign operations\n",
        "\n",
        "print(\"1. Addition (+)\")\n",
        "print(\"2. Subtraction (-)\")\n",
        "print(\"3. Multiplication (*)\")\n",
        "print(\"4. Division (/)\")\n",
        "print (\"5. modulous(%)\")\n",
        "\n",
        " # get user choice\n",
        "operation = input(\"Enter the operation number (1/2/3/4/5): \")\n",
        "\n",
        "num1 = int(input (\"Enter the first number: \"))\n",
        "num2 = int (input(\"Enter the second number: \"))\n",
        "if operation == \"1\":\n",
        "    print(\"Thank you for using the calculator. take care!\")\n",
        "    result = num1 + num2\n",
        "    print(\"Result:\", result)\n",
        "elif operation == \"2\":\n",
        "        print(\"Thank you for using the calculator. take care!\")\n",
        "        result = num1 - num2\n",
        "        print(\"Result:\", result)\n",
        "elif operation == \"3\":\n",
        "        print(\"Thank you for using the calculator. take care!\")\n",
        "        result = num1 * num2\n",
        "        print(\"Result:\", result)\n",
        "elif operation == \"4\":\n",
        "            print(\"Thank you for using the calculator. take care!\")\n",
        "            result= num1 / num2\n",
        "            print(\"Result:\", result)\n",
        "elif operation == \"5\":\n",
        "                print(\"Thank you for using the calculator. take care!\")\n",
        "                result = num1 % num2\n",
        "                print(\"Result:\", result)\n",
        "\n",
        "else:\n",
        "     print(\"Thank you for using the calculator. take care!\")\n"
      ],
      "metadata": {
        "colab": {
          "base_uri": "https://localhost:8080/"
        },
        "id": "2AM_OEKJO8ih",
        "outputId": "b48e7bf3-e066-40a4-f44a-49099a286c0a"
      },
      "execution_count": null,
      "outputs": [
        {
          "output_type": "stream",
          "name": "stdout",
          "text": [
            " welcome to phython calculator!\n",
            " select any operation\n",
            "Enter the operation number (1/2/3/4/5): 2\n",
            "1. Addition (+)\n",
            "2. Subtraction (-)\n",
            "3. Multiplication (*)\n",
            "4. Division (/)\n",
            "5. modulous(%)\n",
            "Enter the operation number (1/2/3/4/5): 2\n",
            "Enter the first number: 3\n",
            "Enter the second number: 4\n",
            "Thank you for using the calculator. take care!\n",
            "Result: -1\n"
          ]
        }
      ]
    },
    {
      "cell_type": "markdown",
      "source": [
        "# ANOTHER TYPE OF CALCULATOR"
      ],
      "metadata": {
        "id": "H51umFcV_8HN"
      }
    },
    {
      "cell_type": "code",
      "source": [
        "# Basic Calculator in Python\n",
        "def calculator():\n",
        "    print(\"Select operation:\")\n",
        "    print(\"1. Add\")\n",
        "    print(\"2. Subtract\")\n",
        "    print(\"3. Multiply\")\n",
        "    print(\"4. Divide\")\n",
        "\n",
        "    choice = input(\"Enter choice (1/2/3/4): \")\n",
        "\n",
        "    if choice in ('1', '2', '3', '4'):\n",
        "        num1 = float(input(\"Enter first number: \"))\n",
        "        num2 = float(input(\"Enter second number: \"))\n",
        "\n",
        "        if choice == '1':\n",
        "            print(f\"The result is: {num1 + num2}\")\n",
        "        elif choice == '2':\n",
        "            print(f\"The result is: {num1 - num2}\")\n",
        "        elif choice == '3':\n",
        "            print(f\"The result is: {num1 * num2}\")\n",
        "        elif choice == '4':\n",
        "            if num2 != 0:\n",
        "                print(f\"The result is: {num1 / num2}\")\n",
        "            else:\n",
        "                print(\"Error! Division by zero.\")\n",
        "    else:\n",
        "        print(\"Invalid input\")\n",
        "\n",
        "calculator()"
      ],
      "metadata": {
        "colab": {
          "base_uri": "https://localhost:8080/"
        },
        "id": "WIZn_Xt2k5q5",
        "outputId": "aa7c0d14-d563-44db-d499-a5a0711d0eb8"
      },
      "execution_count": null,
      "outputs": [
        {
          "output_type": "stream",
          "name": "stdout",
          "text": [
            "Select operation:\n",
            "1. Add\n",
            "2. Subtract\n",
            "3. Multiply\n",
            "4. Divide\n",
            "Enter choice (1/2/3/4): 2\n",
            "Enter first number: 66\n",
            "Enter second number: 33\n",
            "The result is: 33.0\n"
          ]
        }
      ]
    },
    {
      "cell_type": "code",
      "source": [
        "def happiness():\n",
        "  moment=(\"always smile.\")\n",
        "  return moment"
      ],
      "metadata": {
        "id": "5ZaYprjZfNU0"
      },
      "execution_count": null,
      "outputs": []
    },
    {
      "cell_type": "markdown",
      "source": [
        "# ** calculator 3 code **"
      ],
      "metadata": {
        "id": "5uxn7G9kbqcv"
      }
    },
    {
      "cell_type": "code",
      "source": [
        "a=50\n",
        "b=3\n",
        "print(\"The value of a\" ,a, \"+\" ,3, \"is:\" ,a+b )\n",
        "print(\"The value of a\" ,a, \"-\" ,3, \"is:\" ,a-b )\n",
        "print(\"The value of a\" ,a, \"*\" ,3, \"is:\" ,a*b )\n",
        "print(\"The value of a\" ,a, \"/\" ,3, \"is:\" ,a/b )\n"
      ],
      "metadata": {
        "colab": {
          "base_uri": "https://localhost:8080/"
        },
        "id": "Abew39cdcCt4",
        "outputId": "f0343b8d-e37f-443a-9abf-cd931699bb13"
      },
      "execution_count": null,
      "outputs": [
        {
          "output_type": "stream",
          "name": "stdout",
          "text": [
            "The value of a 50 + 3 is: 53\n",
            "The value of a 50 - 3 is: 47\n",
            "The value of a 50 * 3 is: 150\n",
            "The value of a 50 / 3 is: 16.666666666666668\n"
          ]
        }
      ]
    },
    {
      "cell_type": "code",
      "source": [
        "print(\"created by Alisha.\")\n",
        "print(\"welcome to Alisha's calculator.\")\n",
        "a=int(input(\"enter the first number:\"))\n",
        "b=int(input(\"enter the next number:\"))\n",
        "print(\"the addition of a and b is:\",a+b)\n",
        "print(\"The subtraction  of a and b is:\",a-b)\n",
        "print(\"The division  of a and b is:\",a/b)\n",
        "print(\"The modulous of a and b is:\",a%b)\n",
        "\n",
        "\n"
      ],
      "metadata": {
        "colab": {
          "base_uri": "https://localhost:8080/"
        },
        "id": "vC25mQoGbw3u",
        "outputId": "b9b7426f-3150-4bcb-c7a5-bdcb9fd25f36"
      },
      "execution_count": null,
      "outputs": [
        {
          "output_type": "stream",
          "name": "stdout",
          "text": [
            "created by Alisha.\n",
            "welcome to Alisha's calculator.\n",
            "enter the first number:34\n",
            "enter the next number:22\n",
            "the addition of a and b is: 56\n",
            "The subtraction  of a and b is: 12\n",
            "The division  of a and b is: 1.5454545454545454\n",
            "The modulous of a and b is: 12\n"
          ]
        }
      ]
    }
  ]
}