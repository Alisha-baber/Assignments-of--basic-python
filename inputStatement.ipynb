{
  "nbformat": 4,
  "nbformat_minor": 0,
  "metadata": {
    "colab": {
      "provenance": [],
      "authorship_tag": "ABX9TyPc124f5RY7Yyocwq6KtjKx",
      "include_colab_link": true
    },
    "kernelspec": {
      "name": "python3",
      "display_name": "Python 3"
    },
    "language_info": {
      "name": "python"
    }
  },
  "cells": [
    {
      "cell_type": "markdown",
      "metadata": {
        "id": "view-in-github",
        "colab_type": "text"
      },
      "source": [
        "<a href=\"https://colab.research.google.com/github/Alisha-baber/Assignments-of--basic-python/blob/main/inputStatement.ipynb\" target=\"_parent\"><img src=\"https://colab.research.google.com/assets/colab-badge.svg\" alt=\"Open In Colab\"/></a>"
      ]
    },
    {
      "cell_type": "code",
      "execution_count": 1,
      "metadata": {
        "colab": {
          "base_uri": "https://localhost:8080/"
        },
        "id": "igq9teAHadtI",
        "outputId": "1fc0c920-cba7-4193-a3ad-e46c9eaadace"
      },
      "outputs": [
        {
          "output_type": "stream",
          "name": "stdout",
          "text": [
            "enter first number4\n",
            "enter second number6\n",
            "False\n"
          ]
        }
      ],
      "source": [
        "num1=int(input(\"enter first number\"))\n",
        "num2=int(input(\"enter second number\"))\n",
        "print(num1==num2)\n"
      ]
    },
    {
      "cell_type": "code",
      "source": [
        "# using input() to take user input\n",
        "num = input('Enter a number: ')\n",
        "\n",
        "print('You Entered:', num)\n",
        "\n",
        "print('Data type of num:', type(num))"
      ],
      "metadata": {
        "colab": {
          "base_uri": "https://localhost:8080/"
        },
        "id": "iRWqC4ruNB86",
        "outputId": "5e84a2d7-f4f5-406e-8c6e-e0dcd8bca7c3"
      },
      "execution_count": 2,
      "outputs": [
        {
          "output_type": "stream",
          "name": "stdout",
          "text": [
            "Enter a number: 66\n",
            "You Entered: 66\n",
            "Data type of num: <class 'str'>\n"
          ]
        }
      ]
    },
    {
      "cell_type": "code",
      "source": [
        "name=input()\n",
        "print(name)"
      ],
      "metadata": {
        "colab": {
          "base_uri": "https://localhost:8080/"
        },
        "id": "AbpbdvC-NLrF",
        "outputId": "7df30f9e-d2f4-4181-81a2-472a4eb612e4"
      },
      "execution_count": 3,
      "outputs": [
        {
          "output_type": "stream",
          "name": "stdout",
          "text": [
            "Alisha\n",
            "Alisha\n"
          ]
        }
      ]
    },
    {
      "cell_type": "code",
      "source": [
        "y= input (\"your handwritting is nice\")\n",
        "h= input (\"your handwritting is bad\")\n",
        "print(y==h)"
      ],
      "metadata": {
        "colab": {
          "base_uri": "https://localhost:8080/"
        },
        "id": "e3m_Q4jhOULb",
        "outputId": "68c7c51a-e986-4bc8-efde-af9dc3a973f1"
      },
      "execution_count": 4,
      "outputs": [
        {
          "output_type": "stream",
          "name": "stdout",
          "text": [
            "your handwritting is nice12\n",
            "your handwritting is bad33\n",
            "False\n"
          ]
        }
      ]
    },
    {
      "cell_type": "code",
      "source": [
        "price1=int(input(\"enter first price\"))\n",
        "price2=int(input(\"enter second price\"))\n",
        "print(price1<price2)"
      ],
      "metadata": {
        "colab": {
          "base_uri": "https://localhost:8080/"
        },
        "id": "AxBR3LBXPLJj",
        "outputId": "dc430f5c-fa0a-45b7-c23b-4a351ca7c098"
      },
      "execution_count": 6,
      "outputs": [
        {
          "output_type": "stream",
          "name": "stdout",
          "text": [
            "enter first price22000\n",
            "enter second price50000\n",
            "True\n"
          ]
        }
      ]
    },
    {
      "cell_type": "code",
      "source": [
        "a=int(input(\"enter first number\"))\n",
        "b=int(input(\"enter second number\"))\n",
        "print(a<b)"
      ],
      "metadata": {
        "colab": {
          "base_uri": "https://localhost:8080/"
        },
        "id": "VfX2dyQuPfk9",
        "outputId": "36f8a8f9-7038-48b9-a595-260f3aa8813b"
      },
      "execution_count": 7,
      "outputs": [
        {
          "output_type": "stream",
          "name": "stdout",
          "text": [
            "enter first number90\n",
            "enter second number50\n",
            "False\n"
          ]
        }
      ]
    },
    {
      "cell_type": "code",
      "source": [
        "f=input(\"enter first number\")\n",
        "b=input(\"enter second number\")\n",
        "print(f<=b)"
      ],
      "metadata": {
        "colab": {
          "base_uri": "https://localhost:8080/"
        },
        "id": "C4hnjPjkPmwt",
        "outputId": "589af7c8-926c-415f-d4f4-505fb3ea7fda"
      },
      "execution_count": 8,
      "outputs": [
        {
          "output_type": "stream",
          "name": "stdout",
          "text": [
            "enter first number60\n",
            "enter second number140\n",
            "False\n"
          ]
        }
      ]
    }
  ]
}