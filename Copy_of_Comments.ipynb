{
  "nbformat": 4,
  "nbformat_minor": 0,
  "metadata": {
    "colab": {
      "provenance": [],
      "authorship_tag": "ABX9TyNaZkGXB01wBWMNtY/V0uEm",
      "include_colab_link": true
    },
    "kernelspec": {
      "name": "python3",
      "display_name": "Python 3"
    },
    "language_info": {
      "name": "python"
    }
  },
  "cells": [
    {
      "cell_type": "markdown",
      "metadata": {
        "id": "view-in-github",
        "colab_type": "text"
      },
      "source": [
        "<a href=\"https://colab.research.google.com/github/Alisha-baber/Assignments-of--basic-python/blob/main/Copy_of_Comments.ipynb\" target=\"_parent\"><img src=\"https://colab.research.google.com/assets/colab-badge.svg\" alt=\"Open In Colab\"/></a>"
      ]
    },
    {
      "cell_type": "code",
      "execution_count": null,
      "metadata": {
        "colab": {
          "base_uri": "https://localhost:8080/"
        },
        "id": "ZH9DPFglPA1h",
        "outputId": "18bd4510-d162-46d8-b4dd-701b10aab1ad"
      },
      "outputs": [
        {
          "output_type": "stream",
          "name": "stdout",
          "text": [
            "25\n"
          ]
        }
      ],
      "source": [
        "# print a number\n",
        "print(25)"
      ]
    },
    {
      "cell_type": "code",
      "source": [
        "# declare a variable\n",
        "name = \"Alisha\"\n",
        "\n",
        "# print name\n",
        "print(name)    # Alisha"
      ],
      "metadata": {
        "colab": {
          "base_uri": "https://localhost:8080/"
        },
        "id": "1hLoWF49PLkO",
        "outputId": "267a3f79-a675-4031-a936-0b5aaa3bcb82"
      },
      "execution_count": null,
      "outputs": [
        {
          "output_type": "stream",
          "name": "stdout",
          "text": [
            "Alisha\n"
          ]
        }
      ]
    },
    {
      "cell_type": "code",
      "source": [
        "# This is an example of a multiline comment\n",
        "# created using multiple single-line commenced\n",
        "# The code prints the text Hello World\n",
        "print(\"Hello, World!\")"
      ],
      "metadata": {
        "colab": {
          "base_uri": "https://localhost:8080/"
        },
        "id": "MqgUbZxNP3p6",
        "outputId": "3e1da227-2d78-439d-e8c9-3ee96f6fa1be"
      },
      "execution_count": null,
      "outputs": [
        {
          "output_type": "stream",
          "name": "stdout",
          "text": [
            "Hello, World!\n"
          ]
        }
      ]
    },
    {
      "cell_type": "code",
      "source": [
        "number1 = 10\n",
        "number2 = 15\n",
        "\n",
        "sum = number1 + number2\n",
        "\n",
        "print(\"The sum is:\", sum)\n",
        "# print('The product is:', product)"
      ],
      "metadata": {
        "colab": {
          "base_uri": "https://localhost:8080/"
        },
        "id": "fqievNVSQ4wq",
        "outputId": "3be3f477-0bc8-4ac8-d4be-35c84df0b019"
      },
      "execution_count": null,
      "outputs": [
        {
          "output_type": "stream",
          "name": "stdout",
          "text": [
            "The sum is: 25\n"
          ]
        }
      ]
    }
  ]
}